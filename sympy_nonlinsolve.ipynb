{
 "cells": [
  {
   "cell_type": "markdown",
   "metadata": {},
   "source": [
    "# Solving set of linear equations in plaintext using sympy\n",
    "\n",
    "We would like to perform a precipitation with Ethanol in order to concentrate and purify a protein in our sample. \n",
    "\n",
    "According to the protocol, the protein precipitates at a final ethanol concentration of 55% (vol/vol). We have a \n",
    "sample volume with our protein of 20 mL, and we have a 96% (vol/vol) ethanol solution. \n",
    "\n",
    "How much of the ethanol solution should we add to the sample in order to reach a final concentration of 55%? The \n",
    "sample contains no ethanol from the beginning.\n",
    "\n",
    "We can set up the following system of equations.\n",
    "\n",
    "    sample_volume = 20 mL\n",
    "    final_concentration = 0.55 %\n",
    "    ethanol_concentration = 0.96 %\n",
    "\n",
    "    final_volume = ethanol_vol + sample_volume\n",
    "    \n",
    "    final_concentration * final_volume = ethanol_vol * ethanol_concentration\n",
    "\n",
    "The final two equations are a mass balance over ethanol. The final concentration times the final \n",
    "volume has to equal the added ethanol which is the added volume times the concentration.\n",
    "\n",
    "The only unknown is ethanol_vol, manual simplification of the expression gives:\n",
    "\n",
    "    ethanol_vol = final_concentration*sample_volume/(ethanol_concentration-final_concentration)\n",
    "\n",
    "or\n",
    "    \n",
    "    ethanol_vol = 0.55*20/(0.96-0.55) = 26.82 mL\n",
    "    \n",
    "Lets try to find this answer with sympy:"
   ]
  },
  {
   "cell_type": "code",
   "execution_count": 1,
   "metadata": {},
   "outputs": [],
   "source": [
    "eqs='''\n",
    "\n",
    "sample_volume = 20\n",
    "\n",
    "final_concentration = 0.55\n",
    "\n",
    "ethanol_concentration = 0.96\n",
    "\n",
    "final_volume = ethanol_vol+sample_volume\n",
    "\n",
    "final_concentration*final_volume = ethanol_vol*ethanol_concentration\n",
    "\n",
    "'''.strip().splitlines()"
   ]
  },
  {
   "cell_type": "code",
   "execution_count": 2,
   "metadata": {},
   "outputs": [
    {
     "data": {
      "text/plain": [
       "'1.6'"
      ]
     },
     "execution_count": 2,
     "metadata": {},
     "output_type": "execute_result"
    }
   ],
   "source": [
    "from sympy.interactive import printing\n",
    "printing.init_printing(use_latex=True)\n",
    "import sympy\n",
    "sympy.__version__"
   ]
  },
  {
   "cell_type": "code",
   "execution_count": 3,
   "metadata": {},
   "outputs": [],
   "source": [
    "eqs=[tuple(eq.split(\"=\")) for eq in eqs if eq]"
   ]
  },
  {
   "cell_type": "code",
   "execution_count": 4,
   "metadata": {},
   "outputs": [],
   "source": [
    "#eqs = [sympy.Eq(sympy.sympify(l),sympy.sympify(r)) for l,r in [eq for eq in eqs]]\n",
    "sympyeqs=[]\n",
    "for left, right in eqs:\n",
    "    eq = sympy.Eq( sympy.sympify(left.strip()), sympy.sympify(right.strip()))\n",
    "    sympyeqs.append(eq)"
   ]
  },
  {
   "cell_type": "code",
   "execution_count": 5,
   "metadata": {},
   "outputs": [
    {
     "data": {
      "image/png": "[encoded data removed]",
      "text/latex": [
       "$\\displaystyle sample_{volume} = 20$"
      ],
      "text/plain": [
       "sampleᵥₒₗᵤₘₑ = 20"
      ]
     },
     "metadata": {},
     "output_type": "display_data"
    },
    {
     "data": {
      "image/png": "[encoded data removed]",
      "text/latex": [
       "$\\displaystyle final_{concentration} = 0.55$"
      ],
      "text/plain": [
       "final_concentration = 0.55"
      ]
     },
     "metadata": {},
     "output_type": "display_data"
    },
    {
     "data": {
      "image/png": "[encoded data removed]",
      "text/latex": [
       "$\\displaystyle ethanol_{concentration} = 0.96$"
      ],
      "text/plain": [
       "ethanol_concentration = 0.96"
      ]
     },
     "metadata": {},
     "output_type": "display_data"
    },
    {
     "data": {
      "image/png": "[encoded data removed]",
      "text/latex": [
       "$\\displaystyle final_{volume} = ethanol_{vol} + sample_{volume}$"
      ],
      "text/plain": [
       "finalᵥₒₗᵤₘₑ = ethanolᵥₒₗ + sampleᵥₒₗᵤₘₑ"
      ]
     },
     "metadata": {},
     "output_type": "display_data"
    },
    {
     "data": {
      "image/png": "[encoded data removed]",
      "text/latex": [
       "$\\displaystyle final_{concentration} final_{volume} = ethanol_{concentration} ethanol_{vol}$"
      ],
      "text/plain": [
       "final_concentration⋅finalᵥₒₗᵤₘₑ = ethanol_concentration⋅ethanolᵥₒₗ"
      ]
     },
     "metadata": {},
     "output_type": "display_data"
    }
   ],
   "source": [
    "for eq in sympyeqs:\n",
    "    display(eq)"
   ]
  },
  {
   "cell_type": "code",
   "execution_count": 6,
   "metadata": {},
   "outputs": [
    {
     "data": {
      "image/png": "[encoded data removed]",
      "text/latex": [
       "$\\displaystyle \\left\\{ethanol_{concentration}, ethanol_{vol}, final_{concentration}, final_{volume}, sample_{volume}\\right\\}$"
      ],
      "text/plain": [
       "{ethanol_concentration, ethanolᵥₒₗ, final_concentration, finalᵥₒₗᵤₘₑ, sampleᵥₒ\n",
       "ₗᵤₘₑ}"
      ]
     },
     "execution_count": 6,
     "metadata": {},
     "output_type": "execute_result"
    }
   ],
   "source": [
    "syms=set()\n",
    "for eq in sympyeqs:\n",
    "    syms.update( eq.free_symbols )\n",
    "syms"
   ]
  },
  {
   "cell_type": "code",
   "execution_count": 7,
   "metadata": {},
   "outputs": [],
   "source": [
    "from sympy.solvers.solveset import nonlinsolve"
   ]
  },
  {
   "cell_type": "code",
   "execution_count": 8,
   "metadata": {},
   "outputs": [],
   "source": [
    "solution = nonlinsolve(sympyeqs, list(syms))"
   ]
  },
  {
   "cell_type": "code",
   "execution_count": 9,
   "metadata": {},
   "outputs": [
    {
     "data": {
      "image/png": "[encoded data removed]",
      "text/latex": [
       "$\\displaystyle \\left\\{\\left( 0.55, \\  46.8292682926829, \\  26.8292682926829, \\  0.96, \\  20\\right)\\right\\}$"
      ],
      "text/plain": [
       "{(0.55, 46.8292682926829, 26.8292682926829, 0.96, 20)}"
      ]
     },
     "execution_count": 9,
     "metadata": {},
     "output_type": "execute_result"
    }
   ],
   "source": [
    "solution"
   ]
  },
  {
   "cell_type": "code",
   "execution_count": 10,
   "metadata": {},
   "outputs": [
    {
     "name": "stdout",
     "output_type": "stream",
     "text": [
      "final_concentration 0.550000000000000\n",
      "final_volume 46.8292682926829\n",
      "ethanol_vol 26.8292682926829\n",
      "ethanol_concentration 0.960000000000000\n",
      "sample_volume 20\n"
     ]
    }
   ],
   "source": [
    "for sym,sol in zip(syms, list(solution).pop()):\n",
    "    print(sym, sol)"
   ]
  },
  {
   "cell_type": "markdown",
   "metadata": {},
   "source": [
    "We find that we have to add ~26.8 mL of ethanol to our initial sample.\n",
    "\n",
    "References:\n",
    "https://github.com/sympy/sympy/wiki/Quick-examples\n",
    "\n",
    "It would be nice to have also the result using symbolic simplification like:\n",
    "\n",
    "    ethanol_vol = final_concentration*sample_volume/(ethanol_concentration-final_concentration)\n",
    "    \n",
    "but it seems that the sympy.nonlinsolve gives a numerical solution."
   ]
  },
  {
   "cell_type": "code",
   "execution_count": null,
   "metadata": {},
   "outputs": [],
   "source": []
  }
 ],
 "metadata": {
  "anaconda-cloud": {
   "attach-environment": false,
   "environment": null,
   "summary": "Solving set of linear equations in plaintext using sympy",
   "url": "https://anaconda.org/bjornfjohansson/sympy"
  },
  "kernelspec": {
   "display_name": "Python [conda env:bjorn38]",
   "language": "python",
   "name": "conda-env-bjorn38-py"
  },
  "language_info": {
   "codemirror_mode": {
    "name": "ipython",
    "version": 3
   },
   "file_extension": ".py",
   "mimetype": "text/x-python",
   "name": "python",
   "nbconvert_exporter": "python",
   "pygments_lexer": "ipython3",
   "version": "3.8.0"
  }
 },
 "nbformat": 4,
 "nbformat_minor": 4
}
